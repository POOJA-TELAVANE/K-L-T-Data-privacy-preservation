{
 "cells": [
  {
   "cell_type": "code",
   "execution_count": 1,
   "metadata": {},
   "outputs": [],
   "source": [
    "import pandas as pd\n",
    "import matplotlib.pyplot as plt\n",
    "import seaborn as sns\n",
    "import numpy as np\n",
    "import BeliefDistributionSetup as bds\n",
    "from sklearn import preprocessing\n",
    "import earth_movers_distance as emd\n",
    "import matplotlib.pylab as pl\n",
    "import matplotlib.patches as patches\n",
    "%matplotlib inline"
   ]
  },
  {
   "cell_type": "code",
   "execution_count": 2,
   "metadata": {},
   "outputs": [],
   "source": [
    "df = pd.read_csv(\"Patient_Medical_History.csv\") "
   ]
  },
  {
   "cell_type": "code",
   "execution_count": 3,
   "metadata": {},
   "outputs": [],
   "source": [
    "# this is a list of the column names in our dataset \n",
    "names = (\n",
    "    'id',\n",
    "    'gender',\n",
    "    'age',\n",
    "    'dob',\n",
    "    'zipcode',\n",
    "    'employment_status',\n",
    "    'education',\n",
    "    'marital_status',\n",
    "    'children,ancestry',\n",
    "    'avg_commute',\n",
    "    'daily_internet_use',\n",
    "    'available_vehicles',\n",
    "    'military_service',\n",
    "    'disease'\n",
    ")\n",
    "\n",
    "# some fields are categorical and will require special treatment\n",
    "categorical = set((\n",
    "    'id',\n",
    "    'gender',\n",
    "    'employment_status',\n",
    "    'education',\n",
    "    'marital_status',\n",
    "    'ancestry',\n",
    "    'military_service',\n",
    "    'disease',\n",
    "    'dob'\n",
    "))"
   ]
  },
  {
   "cell_type": "code",
   "execution_count": 4,
   "metadata": {},
   "outputs": [
    {
     "data": {
      "text/html": [
       "<div>\n",
       "<style scoped>\n",
       "    .dataframe tbody tr th:only-of-type {\n",
       "        vertical-align: middle;\n",
       "    }\n",
       "\n",
       "    .dataframe tbody tr th {\n",
       "        vertical-align: top;\n",
       "    }\n",
       "\n",
       "    .dataframe thead th {\n",
       "        text-align: right;\n",
       "    }\n",
       "</style>\n",
       "<table border=\"1\" class=\"dataframe\">\n",
       "  <thead>\n",
       "    <tr style=\"text-align: right;\">\n",
       "      <th></th>\n",
       "      <th>id</th>\n",
       "      <th>gender</th>\n",
       "      <th>age</th>\n",
       "      <th>dob</th>\n",
       "      <th>zipcode</th>\n",
       "      <th>employment_status</th>\n",
       "      <th>education</th>\n",
       "      <th>marital_status</th>\n",
       "      <th>children</th>\n",
       "      <th>ancestry</th>\n",
       "      <th>avg_commute</th>\n",
       "      <th>daily_internet_use</th>\n",
       "      <th>available_vehicles</th>\n",
       "      <th>military_service</th>\n",
       "      <th>disease</th>\n",
       "    </tr>\n",
       "  </thead>\n",
       "  <tbody>\n",
       "    <tr>\n",
       "      <th>0</th>\n",
       "      <td>Amelia Nixon</td>\n",
       "      <td>female</td>\n",
       "      <td>50</td>\n",
       "      <td>3/9/1944</td>\n",
       "      <td>89136</td>\n",
       "      <td>retired</td>\n",
       "      <td>bachelors</td>\n",
       "      <td>married</td>\n",
       "      <td>1</td>\n",
       "      <td>Portugal</td>\n",
       "      <td>13.38</td>\n",
       "      <td>2.53</td>\n",
       "      <td>2</td>\n",
       "      <td>no</td>\n",
       "      <td>hypertension</td>\n",
       "    </tr>\n",
       "    <tr>\n",
       "      <th>1</th>\n",
       "      <td>Clara Hicks</td>\n",
       "      <td>female</td>\n",
       "      <td>38</td>\n",
       "      <td>7/2/1966</td>\n",
       "      <td>94105</td>\n",
       "      <td>employed</td>\n",
       "      <td>phd/md</td>\n",
       "      <td>married</td>\n",
       "      <td>4</td>\n",
       "      <td>Sweden</td>\n",
       "      <td>15.16</td>\n",
       "      <td>6.77</td>\n",
       "      <td>2</td>\n",
       "      <td>no</td>\n",
       "      <td>endometriosis</td>\n",
       "    </tr>\n",
       "    <tr>\n",
       "      <th>2</th>\n",
       "      <td>Mason Brown</td>\n",
       "      <td>male</td>\n",
       "      <td>53</td>\n",
       "      <td>5/31/1981</td>\n",
       "      <td>89127</td>\n",
       "      <td>employed</td>\n",
       "      <td>masters</td>\n",
       "      <td>married</td>\n",
       "      <td>2</td>\n",
       "      <td>Germany</td>\n",
       "      <td>23.60</td>\n",
       "      <td>3.63</td>\n",
       "      <td>1</td>\n",
       "      <td>no</td>\n",
       "      <td>prostate cancer</td>\n",
       "    </tr>\n",
       "    <tr>\n",
       "      <th>3</th>\n",
       "      <td>Michael Rice</td>\n",
       "      <td>male</td>\n",
       "      <td>28</td>\n",
       "      <td>2/13/1945</td>\n",
       "      <td>44101</td>\n",
       "      <td>retired</td>\n",
       "      <td>bachelors</td>\n",
       "      <td>married</td>\n",
       "      <td>2</td>\n",
       "      <td>Denmark</td>\n",
       "      <td>19.61</td>\n",
       "      <td>5.00</td>\n",
       "      <td>3</td>\n",
       "      <td>no</td>\n",
       "      <td>multiple sclerosis</td>\n",
       "    </tr>\n",
       "    <tr>\n",
       "      <th>4</th>\n",
       "      <td>Eleanor Ritter</td>\n",
       "      <td>female</td>\n",
       "      <td>37</td>\n",
       "      <td>9/3/1939</td>\n",
       "      <td>89136</td>\n",
       "      <td>retired</td>\n",
       "      <td>masters</td>\n",
       "      <td>married</td>\n",
       "      <td>3</td>\n",
       "      <td>Austria</td>\n",
       "      <td>36.55</td>\n",
       "      <td>7.75</td>\n",
       "      <td>1</td>\n",
       "      <td>no</td>\n",
       "      <td>skin cancer</td>\n",
       "    </tr>\n",
       "    <tr>\n",
       "      <th>...</th>\n",
       "      <td>...</td>\n",
       "      <td>...</td>\n",
       "      <td>...</td>\n",
       "      <td>...</td>\n",
       "      <td>...</td>\n",
       "      <td>...</td>\n",
       "      <td>...</td>\n",
       "      <td>...</td>\n",
       "      <td>...</td>\n",
       "      <td>...</td>\n",
       "      <td>...</td>\n",
       "      <td>...</td>\n",
       "      <td>...</td>\n",
       "      <td>...</td>\n",
       "      <td>...</td>\n",
       "    </tr>\n",
       "    <tr>\n",
       "      <th>1995</th>\n",
       "      <td>Ethan Johnson</td>\n",
       "      <td>male</td>\n",
       "      <td>49</td>\n",
       "      <td>4/13/1942</td>\n",
       "      <td>89127</td>\n",
       "      <td>retired</td>\n",
       "      <td>masters</td>\n",
       "      <td>married</td>\n",
       "      <td>1</td>\n",
       "      <td>Switzerland</td>\n",
       "      <td>28.48</td>\n",
       "      <td>5.88</td>\n",
       "      <td>1</td>\n",
       "      <td>no</td>\n",
       "      <td>heart disease</td>\n",
       "    </tr>\n",
       "    <tr>\n",
       "      <th>1996</th>\n",
       "      <td>Natalia Dominguez</td>\n",
       "      <td>female</td>\n",
       "      <td>75</td>\n",
       "      <td>5/10/1963</td>\n",
       "      <td>60612</td>\n",
       "      <td>unemployed</td>\n",
       "      <td>highschool</td>\n",
       "      <td>married</td>\n",
       "      <td>4</td>\n",
       "      <td>Denmark</td>\n",
       "      <td>21.09</td>\n",
       "      <td>5.92</td>\n",
       "      <td>0</td>\n",
       "      <td>no</td>\n",
       "      <td>gastritis</td>\n",
       "    </tr>\n",
       "    <tr>\n",
       "      <th>1997</th>\n",
       "      <td>Joseph Zuniga</td>\n",
       "      <td>male</td>\n",
       "      <td>33</td>\n",
       "      <td>7/12/1965</td>\n",
       "      <td>94110</td>\n",
       "      <td>employed</td>\n",
       "      <td>bachelors</td>\n",
       "      <td>married</td>\n",
       "      <td>2</td>\n",
       "      <td>Russia</td>\n",
       "      <td>30.80</td>\n",
       "      <td>4.91</td>\n",
       "      <td>2</td>\n",
       "      <td>no</td>\n",
       "      <td>hypertension</td>\n",
       "    </tr>\n",
       "    <tr>\n",
       "      <th>1998</th>\n",
       "      <td>Daniel Murphy</td>\n",
       "      <td>male</td>\n",
       "      <td>22</td>\n",
       "      <td>8/10/1926</td>\n",
       "      <td>90015</td>\n",
       "      <td>retired</td>\n",
       "      <td>bachelors</td>\n",
       "      <td>married</td>\n",
       "      <td>3</td>\n",
       "      <td>Finland</td>\n",
       "      <td>37.56</td>\n",
       "      <td>2.69</td>\n",
       "      <td>0</td>\n",
       "      <td>no</td>\n",
       "      <td>prostate cancer</td>\n",
       "    </tr>\n",
       "    <tr>\n",
       "      <th>1999</th>\n",
       "      <td>Samuel Harris</td>\n",
       "      <td>male</td>\n",
       "      <td>21</td>\n",
       "      <td>11/22/1948</td>\n",
       "      <td>43210</td>\n",
       "      <td>retired</td>\n",
       "      <td>bachelors</td>\n",
       "      <td>married</td>\n",
       "      <td>5</td>\n",
       "      <td>Scotland</td>\n",
       "      <td>49.34</td>\n",
       "      <td>4.77</td>\n",
       "      <td>3</td>\n",
       "      <td>no</td>\n",
       "      <td>hypertension</td>\n",
       "    </tr>\n",
       "  </tbody>\n",
       "</table>\n",
       "<p>2000 rows × 15 columns</p>\n",
       "</div>"
      ],
      "text/plain": [
       "                     id  gender  age         dob  zipcode employment_status  \\\n",
       "0          Amelia Nixon  female   50    3/9/1944    89136           retired   \n",
       "1           Clara Hicks  female   38    7/2/1966    94105          employed   \n",
       "2           Mason Brown    male   53   5/31/1981    89127          employed   \n",
       "3          Michael Rice    male   28   2/13/1945    44101           retired   \n",
       "4        Eleanor Ritter  female   37    9/3/1939    89136           retired   \n",
       "...                 ...     ...  ...         ...      ...               ...   \n",
       "1995      Ethan Johnson    male   49   4/13/1942    89127           retired   \n",
       "1996  Natalia Dominguez  female   75   5/10/1963    60612        unemployed   \n",
       "1997      Joseph Zuniga    male   33   7/12/1965    94110          employed   \n",
       "1998      Daniel Murphy    male   22   8/10/1926    90015           retired   \n",
       "1999      Samuel Harris    male   21  11/22/1948    43210           retired   \n",
       "\n",
       "       education marital_status  children     ancestry  avg_commute  \\\n",
       "0      bachelors        married         1     Portugal        13.38   \n",
       "1         phd/md        married         4       Sweden        15.16   \n",
       "2        masters        married         2      Germany        23.60   \n",
       "3      bachelors        married         2      Denmark        19.61   \n",
       "4        masters        married         3      Austria        36.55   \n",
       "...          ...            ...       ...          ...          ...   \n",
       "1995     masters        married         1  Switzerland        28.48   \n",
       "1996  highschool        married         4      Denmark        21.09   \n",
       "1997   bachelors        married         2       Russia        30.80   \n",
       "1998   bachelors        married         3      Finland        37.56   \n",
       "1999   bachelors        married         5     Scotland        49.34   \n",
       "\n",
       "      daily_internet_use  available_vehicles military_service  \\\n",
       "0                   2.53                   2               no   \n",
       "1                   6.77                   2               no   \n",
       "2                   3.63                   1               no   \n",
       "3                   5.00                   3               no   \n",
       "4                   7.75                   1               no   \n",
       "...                  ...                 ...              ...   \n",
       "1995                5.88                   1               no   \n",
       "1996                5.92                   0               no   \n",
       "1997                4.91                   2               no   \n",
       "1998                2.69                   0               no   \n",
       "1999                4.77                   3               no   \n",
       "\n",
       "                 disease  \n",
       "0           hypertension  \n",
       "1          endometriosis  \n",
       "2        prostate cancer  \n",
       "3     multiple sclerosis  \n",
       "4            skin cancer  \n",
       "...                  ...  \n",
       "1995       heart disease  \n",
       "1996           gastritis  \n",
       "1997        hypertension  \n",
       "1998     prostate cancer  \n",
       "1999        hypertension  \n",
       "\n",
       "[2000 rows x 15 columns]"
      ]
     },
     "execution_count": 4,
     "metadata": {},
     "output_type": "execute_result"
    }
   ],
   "source": [
    "df"
   ]
  },
  {
   "cell_type": "markdown",
   "metadata": {},
   "source": [
    "From all these initial steps for understanding of data, we can see the data is clean and free from null values, outliers and duplicates\n",
    "Let's start partitioning for K-anonymity further. "
   ]
  },
  {
   "cell_type": "code",
   "execution_count": 5,
   "metadata": {},
   "outputs": [],
   "source": [
    "for name in categorical:\n",
    "    df[name] = df[name].astype('category')\n",
    "\n",
    "\n",
    "def get_spans(df, partition, scale=None):\n",
    "    \"\"\"\n",
    "    :param        df: the dataframe for which to calculate the spans\n",
    "    :param partition: the partition for which to calculate the spans\n",
    "    :param     scale: if given, the spans of each column will be divided\n",
    "                      by the value in `scale` for that column\n",
    "    :        returns: The spans of all columns in the partition\n",
    "    \"\"\"\n",
    "    spans = {}\n",
    "    for column in df.columns:\n",
    "        if column in categorical:\n",
    "            span = len(df[column][partition].unique())\n",
    "        else:\n",
    "            span = df.loc[partition,column].max()-df.loc[partition,column].min()\n",
    "        if scale is not None:\n",
    "            span = span/scale[column]\n",
    "        spans[column] = span\n",
    "    return spans"
   ]
  },
  {
   "cell_type": "code",
   "execution_count": 6,
   "metadata": {},
   "outputs": [
    {
     "data": {
      "text/plain": [
       "{'id': 2000,\n",
       " 'gender': 2,\n",
       " 'age': 73,\n",
       " 'dob': 1877,\n",
       " 'zipcode': 84109,\n",
       " 'employment_status': 4,\n",
       " 'education': 6,\n",
       " 'marital_status': 2,\n",
       " 'children': 7,\n",
       " 'ancestry': 20,\n",
       " 'avg_commute': 66.2,\n",
       " 'daily_internet_use': 7.8100000000000005,\n",
       " 'available_vehicles': 4,\n",
       " 'military_service': 2,\n",
       " 'disease': 13}"
      ]
     },
     "execution_count": 6,
     "metadata": {},
     "output_type": "execute_result"
    }
   ],
   "source": [
    "full_spans = get_spans(df,df.index)\n",
    "full_spans"
   ]
  },
  {
   "cell_type": "code",
   "execution_count": 7,
   "metadata": {},
   "outputs": [],
   "source": [
    "def split(df, partition, column):\n",
    "    \"\"\"\n",
    "    :param        df: The dataframe to split\n",
    "    :param partition: The partition to split\n",
    "    :param    column: The column along which to split\n",
    "    :        returns: A tuple containing a split of the original partition\n",
    "    \"\"\"\n",
    "    dfp = df[column][partition]\n",
    "    if column in categorical:\n",
    "        values = dfp.unique()\n",
    "        lv = set(values[:len(values)//2])\n",
    "        rv = set(values[len(values)//2:])\n",
    "        return dfp.index[dfp.isin(lv)], dfp.index[dfp.isin(rv)]\n",
    "    else:        \n",
    "        median = dfp.median()\n",
    "        dfl = dfp.index[dfp < median]\n",
    "        dfr = dfp.index[dfp >= median]\n",
    "        return (dfl, dfr)\n",
    " "
   ]
  },
  {
   "cell_type": "code",
   "execution_count": 8,
   "metadata": {},
   "outputs": [],
   "source": [
    "def is_k_anonymous(df, partition, sensitive_column, k=3):\n",
    "    \"\"\"\n",
    "    :param               df: The dataframe on which to check the partition.\n",
    "    :param        partition: The partition of the dataframe to check.\n",
    "    :param sensitive_column: The name of the sensitive column\n",
    "    :param                k: The desired k\n",
    "    :returns               : True if the partition is valid according to our k-anonymity criteria, False otherwise.\n",
    "    \"\"\"\n",
    "    if len(partition) < k:\n",
    "        return False\n",
    "    return True\n",
    "\n",
    "def partition_dataset(df, feature_columns, sensitive_column, scale, is_valid):\n",
    "    \"\"\"\n",
    "    :param               df: The dataframe to be partitioned.\n",
    "    :param  feature_columns: A list of column names along which to partition the dataset.\n",
    "    :param sensitive_column: The name of the sensitive column (to be passed on to the `is_valid` function)\n",
    "    :param            scale: The column spans as generated before.\n",
    "    :param         is_valid: A function that takes a dataframe and a partition and returns True if the partition is valid.\n",
    "    :returns               : A list of valid partitions that cover the entire dataframe.\n",
    "    \"\"\"\n",
    "    finished_partitions = []\n",
    "    partitions = [df.index]\n",
    "    while partitions:\n",
    "        partition = partitions.pop(0)\n",
    "        spans = get_spans(df[feature_columns], partition, scale)\n",
    "        for column, span in sorted(spans.items(), key=lambda x:-x[1]):\n",
    "            lp, rp = split(df, partition, column)\n",
    "            if not is_valid(df, lp, sensitive_column) or not is_valid(df, rp, sensitive_column):\n",
    "                continue\n",
    "            partitions.extend((lp, rp))\n",
    "            break\n",
    "        else:\n",
    "            finished_partitions.append(partition)\n",
    "    return finished_partitions"
   ]
  },
  {
   "cell_type": "code",
   "execution_count": 9,
   "metadata": {
    "scrolled": false
   },
   "outputs": [
    {
     "name": "stdout",
     "output_type": "stream",
     "text": [
      "515\n"
     ]
    }
   ],
   "source": [
    "# we apply our partitioning method to two columns of our dataset, using \"disease\" as the sensitive attribute\n",
    "feature_columns = ['age', 'daily_internet_use']\n",
    "sensitive_column = 'disease'\n",
    "finished_partitions = partition_dataset(df, feature_columns, sensitive_column, full_spans, is_k_anonymous)\n",
    "print(len(finished_partitions))"
   ]
  },
  {
   "cell_type": "markdown",
   "metadata": {},
   "source": [
    "Let's visualize the created partitions! To do that, we will write functions to get the rectangular bounds of a partition along two columns. We can then plot these rects to see how our partitioning function divides the dataset. If we perform the partition only along the two columns selected for plotting then the resulting rects should not overlap and cover the entire dataset."
   ]
  },
  {
   "cell_type": "code",
   "execution_count": 10,
   "metadata": {},
   "outputs": [],
   "source": [
    "def build_indexes(df):\n",
    "    indexes = {}\n",
    "    for column in categorical:\n",
    "        values = sorted(df[column].unique())\n",
    "        indexes[column] = { x : y for x, y in zip(values, range(len(values)))}\n",
    "    return indexes\n",
    "\n",
    "def get_coords(df, column, partition, indexes, offset=0.1):\n",
    "    if column in categorical:\n",
    "        sv = df[column][partition].sort_values()\n",
    "        l, r = indexes[column][sv[sv.index[0]]], indexes[column][sv[sv.index[-1]]]+1.0\n",
    "    else:\n",
    "        sv = df[column][partition].sort_values()\n",
    "        next_value = sv[sv.index[-1]]\n",
    "        larger_values = df[df[column] > next_value][column]\n",
    "        if len(larger_values) > 0:\n",
    "            next_value = larger_values.min()\n",
    "        l = sv[sv.index[0]]\n",
    "        r = next_value\n",
    "    # we add some offset to make the partitions more easily visible\n",
    "    l -= offset\n",
    "    r += offset\n",
    "    return l, r\n",
    "\n",
    "def get_partition_rects(df, partitions, column_x, column_y, indexes, offsets=[0.1, 0.1]):\n",
    "    rects = []\n",
    "    for partition in partitions:\n",
    "        xl, xr = get_coords(df, column_x, partition, indexes, offset=offsets[0])\n",
    "        yl, yr = get_coords(df, column_y, partition, indexes, offset=offsets[1])\n",
    "        rects.append(((xl, yl),(xr, yr)))\n",
    "    return rects\n",
    "\n",
    "def get_bounds(df, column, indexes, offset=1.0):\n",
    "    if column in categorical:\n",
    "        return 0-offset, len(indexes[column])+offset\n",
    "    return df[column].min()-offset, df[column].max()+offset"
   ]
  },
  {
   "cell_type": "markdown",
   "metadata": {},
   "source": [
    "Generating an k-Anonymous Dataset"
   ]
  },
  {
   "cell_type": "code",
   "execution_count": 11,
   "metadata": {},
   "outputs": [],
   "source": [
    "def agg_categorical_column(series):\n",
    "    return [','.join(set(series))]\n",
    "\n",
    "def agg_numerical_column(series):\n",
    "    return [series.mean()]"
   ]
  },
  {
   "cell_type": "code",
   "execution_count": 12,
   "metadata": {},
   "outputs": [],
   "source": [
    "def build_anonymized_dataset(df, partitions, feature_columns, sensitive_column, max_partitions=None):\n",
    "    aggregations = {}\n",
    "    for column in feature_columns:\n",
    "        if column in categorical:\n",
    "            aggregations[column] = agg_categorical_column\n",
    "        else:\n",
    "            aggregations[column] = agg_numerical_column\n",
    "    rows = []\n",
    "    for i, partition in enumerate(partitions):\n",
    "        if i % 100 == 1:\n",
    "            print(\"Finished {} partitions...\".format(i))\n",
    "        if max_partitions is not None and i > max_partitions:\n",
    "            break\n",
    "        grouped_columns = df.loc[partition].agg(aggregations, squeeze=False)\n",
    "        sensitive_counts = df.loc[partition].groupby(sensitive_column).agg({sensitive_column : 'count'})\n",
    "        values = grouped_columns.iloc[0].to_dict()\n",
    "        for sensitive_value, count in sensitive_counts[sensitive_column].items():\n",
    "            if count == 0:\n",
    "                continue\n",
    "            values.update({\n",
    "                sensitive_column : sensitive_value,\n",
    "                'count' : count,\n",
    "\n",
    "            })\n",
    "            rows.append(values.copy())\n",
    "    return pd.DataFrame(rows)"
   ]
  },
  {
   "cell_type": "code",
   "execution_count": 13,
   "metadata": {},
   "outputs": [
    {
     "name": "stdout",
     "output_type": "stream",
     "text": [
      "Finished 1 partitions...\n",
      "Finished 101 partitions...\n",
      "Finished 201 partitions...\n",
      "Finished 301 partitions...\n",
      "Finished 401 partitions...\n",
      "Finished 501 partitions...\n"
     ]
    }
   ],
   "source": [
    "dfn = build_anonymized_dataset(df, finished_partitions, feature_columns, sensitive_column)"
   ]
  },
  {
   "cell_type": "code",
   "execution_count": 14,
   "metadata": {},
   "outputs": [
    {
     "data": {
      "text/html": [
       "<div>\n",
       "<style scoped>\n",
       "    .dataframe tbody tr th:only-of-type {\n",
       "        vertical-align: middle;\n",
       "    }\n",
       "\n",
       "    .dataframe tbody tr th {\n",
       "        vertical-align: top;\n",
       "    }\n",
       "\n",
       "    .dataframe thead th {\n",
       "        text-align: right;\n",
       "    }\n",
       "</style>\n",
       "<table border=\"1\" class=\"dataframe\">\n",
       "  <thead>\n",
       "    <tr style=\"text-align: right;\">\n",
       "      <th></th>\n",
       "      <th>age</th>\n",
       "      <th>daily_internet_use</th>\n",
       "      <th>disease</th>\n",
       "      <th>count</th>\n",
       "    </tr>\n",
       "  </thead>\n",
       "  <tbody>\n",
       "    <tr>\n",
       "      <th>298</th>\n",
       "      <td>17.0</td>\n",
       "      <td>4.133333</td>\n",
       "      <td>Alzheimer's disease</td>\n",
       "      <td>1</td>\n",
       "    </tr>\n",
       "    <tr>\n",
       "      <th>299</th>\n",
       "      <td>17.0</td>\n",
       "      <td>4.133333</td>\n",
       "      <td>hypertension</td>\n",
       "      <td>1</td>\n",
       "    </tr>\n",
       "    <tr>\n",
       "      <th>300</th>\n",
       "      <td>17.0</td>\n",
       "      <td>4.133333</td>\n",
       "      <td>kidney disease</td>\n",
       "      <td>1</td>\n",
       "    </tr>\n",
       "    <tr>\n",
       "      <th>485</th>\n",
       "      <td>17.0</td>\n",
       "      <td>5.683333</td>\n",
       "      <td>breast cancer</td>\n",
       "      <td>1</td>\n",
       "    </tr>\n",
       "    <tr>\n",
       "      <th>486</th>\n",
       "      <td>17.0</td>\n",
       "      <td>5.683333</td>\n",
       "      <td>heart disease</td>\n",
       "      <td>1</td>\n",
       "    </tr>\n",
       "    <tr>\n",
       "      <th>...</th>\n",
       "      <td>...</td>\n",
       "      <td>...</td>\n",
       "      <td>...</td>\n",
       "      <td>...</td>\n",
       "    </tr>\n",
       "    <tr>\n",
       "      <th>1662</th>\n",
       "      <td>80.0</td>\n",
       "      <td>4.460000</td>\n",
       "      <td>kidney disease</td>\n",
       "      <td>1</td>\n",
       "    </tr>\n",
       "    <tr>\n",
       "      <th>1497</th>\n",
       "      <td>82.8</td>\n",
       "      <td>6.908000</td>\n",
       "      <td>Alzheimer's disease</td>\n",
       "      <td>1</td>\n",
       "    </tr>\n",
       "    <tr>\n",
       "      <th>1498</th>\n",
       "      <td>82.8</td>\n",
       "      <td>6.908000</td>\n",
       "      <td>breast cancer</td>\n",
       "      <td>1</td>\n",
       "    </tr>\n",
       "    <tr>\n",
       "      <th>1499</th>\n",
       "      <td>82.8</td>\n",
       "      <td>6.908000</td>\n",
       "      <td>hypertension</td>\n",
       "      <td>2</td>\n",
       "    </tr>\n",
       "    <tr>\n",
       "      <th>1500</th>\n",
       "      <td>82.8</td>\n",
       "      <td>6.908000</td>\n",
       "      <td>kidney disease</td>\n",
       "      <td>1</td>\n",
       "    </tr>\n",
       "  </tbody>\n",
       "</table>\n",
       "<p>1707 rows × 4 columns</p>\n",
       "</div>"
      ],
      "text/plain": [
       "       age  daily_internet_use              disease  count\n",
       "298   17.0            4.133333  Alzheimer's disease      1\n",
       "299   17.0            4.133333         hypertension      1\n",
       "300   17.0            4.133333       kidney disease      1\n",
       "485   17.0            5.683333        breast cancer      1\n",
       "486   17.0            5.683333        heart disease      1\n",
       "...    ...                 ...                  ...    ...\n",
       "1662  80.0            4.460000       kidney disease      1\n",
       "1497  82.8            6.908000  Alzheimer's disease      1\n",
       "1498  82.8            6.908000        breast cancer      1\n",
       "1499  82.8            6.908000         hypertension      2\n",
       "1500  82.8            6.908000       kidney disease      1\n",
       "\n",
       "[1707 rows x 4 columns]"
      ]
     },
     "execution_count": 14,
     "metadata": {},
     "output_type": "execute_result"
    }
   ],
   "source": [
    "# we sort the resulting dataframe using the feature columns and the sensitive attribute\n",
    "dfn.sort_values(feature_columns+[sensitive_column])"
   ]
  },
  {
   "cell_type": "code",
   "execution_count": 15,
   "metadata": {},
   "outputs": [
    {
     "data": {
      "text/plain": [
       "array([ 0,  3,  8, 10, 12,  7, 11,  4,  2,  9,  6,  5,  1])"
      ]
     },
     "execution_count": 15,
     "metadata": {},
     "output_type": "execute_result"
    }
   ],
   "source": [
    "label_encoder = preprocessing.LabelEncoder()\n",
    " \n",
    "# Encode labels in column 'species'.\n",
    "dfn['disease']= label_encoder.fit_transform(dfn['disease'])\n",
    " \n",
    "dfn['disease'].unique()"
   ]
  },
  {
   "cell_type": "code",
   "execution_count": 16,
   "metadata": {},
   "outputs": [],
   "source": [
    "# label_encoder object knows how to understand word labels.\n",
    "label_encoder = preprocessing.LabelEncoder()\n",
    " \n",
    "# Encode labels in column 'species'.\n",
    "dfn['disease']= label_encoder.fit_transform(dfn['disease'])\n"
   ]
  },
  {
   "cell_type": "code",
   "execution_count": 17,
   "metadata": {},
   "outputs": [],
   "source": [
    "dfn.to_csv('proposedKanonymity_result1.csv',index=False)"
   ]
  },
  {
   "cell_type": "code",
   "execution_count": 18,
   "metadata": {},
   "outputs": [
    {
     "name": "stdout",
     "output_type": "stream",
     "text": [
      "unique worked\n",
      "0.5876293692638157\n"
     ]
    }
   ],
   "source": [
    "k_t = emd.EMD_ordered_distance(\"proposedKanonymity_result1.csv\", ['age', 'daily_internet_use'], ['disease'])\n",
    "print(k_t)\n"
   ]
  },
  {
   "cell_type": "code",
   "execution_count": 19,
   "metadata": {},
   "outputs": [
    {
     "name": "stdout",
     "output_type": "stream",
     "text": [
      "unique worked\n",
      "[0, 0, 0, 0, 0, 0, 0, 0, 0, 0, 0, 0, 0, 0, 0, 0, 0, 0, 0, 0, 0, 0, 0, 0, 0, 0, 0, 0, 0, 0, 0, 0, 0, 0, 0, 0, 0, 0, 0, 0, 0, 0, 0, 0, 0, 0, 0, 0, 0, 0, 0, 0, 0, 0, 0, 0, 0, 0, 0, 0, 0, 0, 0, 0, 0, 0, 0, 0, 0, 0, 0, 0, 0, 0, 0, 0, 0, 0, 0, 0, 0, 0, 0, 0, 0, 0, 0, 0, 0, 0, 0, 0, 0, 0, 0, 0, 0, 0, 0, 0, 0, 0, 0, 0, 0, 0, 0, 0, 0, 0, 0, 0, 0, 0, 0, 0, 0, 0, 0, 0, 0, 0, 0, 0, 0, 0, 0, 0, 0, 0, 0, 0, 0, 0, 0, 0, 0, 0, 0, 0, 0, 0, 0, 0, 0, 0, 0, 0, 0, 0, 0, 0, 0, 0, 0, 0, 0, 0, 0, 0, 0, 0, 0, 0, 0, 0, 0, 0, 0, 0, 0, 0, 0, 0, 0, 0, 0, 0, 0, 0, 0, 0, 0, 0, 0, 0, 0, 0, 0, 0, 0, 0, 0, 0, 0, 0, 0, 0, 0, 0, 0, 0, 0, 0, 0, 0, 0, 0, 0, 0, 0, 0, 0, 0, 0, 0, 0, 0, 0, 0, 0, 0, 0, 0, 0, 0, 0, 0, 0, 0, 0, 0, 0, 0, 0, 0, 0, 0, 0, 0, 0, 0, 0, 0, 0, 0, 0, 0, 0, 0, 0, 0, 0, 0, 0, 0, 0, 0, 0, 0, 0, 0, 0, 0, 0, 0, 0, 0, 0, 0, 0, 0, 0, 0, 0, 0, 0, 0, 0, 0, 0, 0, 0, 0, 0, 0, 0, 0, 0, 0, 0, 0, 0, 0, 0, 0, 0, 0, 0, 0, 0, 0, 0, 0, 0, 0, 0, 0, 0, 0, 0, 0, 0, 0, 0, 0, 0, 0, 0, 0, 0, 0, 0, 0, 0, 0, 0, 0, 0, 0, 0, 0, 0, 0, 0, 0, 0, 0, 0, 0, 0, 0, 0, 0, 0, 0, 0, 0, 0, 0, 0, 0, 0, 0, 0, 0, 0, 0, 0, 0, 0, 0, 0, 0, 0, 0, 0, 0, 0, 0, 0, 0, 0, 0, 0, 0, 0, 0, 0, 0, 0, 0, 0, 0, 0, 0, 0, 0, 0, 0, 0, 0, 0, 0, 0, 0, 0, 0, 0, 0, 0, 0, 0, 0, 0, 0, 0, 0, 0, 0, 0, 0, 0, 0, 0, 0, 0, 0, 0, 0, 0, 0, 0, 0, 0, 0, 0, 0, 0, 0, 0, 0, 0, 0, 0, 0, 0, 0, 0, 0, 0, 0, 0, 0, 0, 0, 0, 0, 0, 0, 0, 0, 0, 0, 0, 0, 0, 0, 0, 0, 0, 0, 0, 0, 0, 0, 0, 0, 0, 0, 0, 0, 0, 0, 0, 0, 0, 0, 0, 0, 0, 0, 0, 0, 0, 0, 0, 0, 0, 0, 0, 0, 0, 0, 0, 0, 0, 0, 0, 0, 0, 0, 0, 0, 0, 0, 0, 0, 0, 0, 0, 0, 0, 0, 0]\n",
      "0\n"
     ]
    }
   ],
   "source": [
    "k_d = emd.divergence(\"proposedKanonymity_result1.csv\", ['age', 'daily_internet_use'], ['disease'])\n",
    "print(k_d)"
   ]
  },
  {
   "cell_type": "code",
   "execution_count": 20,
   "metadata": {},
   "outputs": [
    {
     "name": "stdout",
     "output_type": "stream",
     "text": [
      "unique worked\n",
      "0.2759655786249855\n"
     ]
    }
   ],
   "source": [
    "k_h=emd.hellinger(\"proposedKanonymity_result1.csv\", ['age', 'daily_internet_use'], ['disease'])\n",
    "print(k_h)"
   ]
  },
  {
   "cell_type": "code",
   "execution_count": 21,
   "metadata": {},
   "outputs": [
    {
     "name": "stdout",
     "output_type": "stream",
     "text": [
      "unique worked\n",
      "0\n"
     ]
    }
   ],
   "source": [
    "k_kl=emd.klDivergence(\"proposedKanonymity_result1.csv\", ['age', 'daily_internet_use'], ['disease'])\n",
    "print(k_kl)"
   ]
  },
  {
   "cell_type": "markdown",
   "metadata": {},
   "source": [
    "# Implementing t-closeness"
   ]
  },
  {
   "cell_type": "code",
   "execution_count": 22,
   "metadata": {},
   "outputs": [],
   "source": [
    "# here we generate the global frequencies for the sensitive column \n",
    "global_freqs = {}\n",
    "total_count = float(len(df))\n",
    "group_counts = df.groupby(sensitive_column)[sensitive_column].agg('count')\n",
    "for value, count in group_counts.to_dict().items():\n",
    "    p = count/total_count\n",
    "    global_freqs[value] = p"
   ]
  },
  {
   "cell_type": "code",
   "execution_count": 23,
   "metadata": {},
   "outputs": [
    {
     "data": {
      "text/plain": [
       "{\"Alzheimer's disease\": 0.1695,\n",
       " 'HIV/AIDS': 0.04,\n",
       " 'breast cancer': 0.0725,\n",
       " 'diabetes': 0.0595,\n",
       " 'endometriosis': 0.033,\n",
       " 'gastritis': 0.05,\n",
       " 'heart disease': 0.0435,\n",
       " 'hypertension': 0.149,\n",
       " 'kidney disease': 0.0925,\n",
       " 'multiple sclerosis': 0.0565,\n",
       " 'prostate cancer': 0.09,\n",
       " 'schizophrenia': 0.0275,\n",
       " 'skin cancer': 0.1165}"
      ]
     },
     "execution_count": 23,
     "metadata": {},
     "output_type": "execute_result"
    }
   ],
   "source": [
    "global_freqs\n"
   ]
  },
  {
   "cell_type": "code",
   "execution_count": 24,
   "metadata": {},
   "outputs": [],
   "source": [
    "def t_closeness(df, partition, column, global_freqs):\n",
    "    total_count = float(len(partition))\n",
    "    d_max = None\n",
    "    group_counts = df.loc[partition].groupby(column)[column].agg('count')\n",
    "    for value, count in group_counts.to_dict().items():\n",
    "        p = count/total_count\n",
    "        d = abs(p-global_freqs[value])\n",
    "        if d_max is None or d > d_max:\n",
    "            d_max = d\n",
    "    return d_max\n",
    "\n",
    "\n",
    "def is_t_close(df, partition, sensitive_column, global_freqs, p=0.2):\n",
    "    \"\"\"\n",
    "    :param               df: The dataframe for which to check l-diversity\n",
    "    :param        partition: The partition of the dataframe on which to check l-diversity\n",
    "    :param sensitive_column: The name of the sensitive column\n",
    "    :param     global_freqs: The global frequencies of the sensitive attribute values\n",
    "    :param                p: The maximum allowed Kolmogorov-Smirnov distance\n",
    "    \"\"\"\n",
    "    if not sensitive_column in categorical:\n",
    "        raise ValueError(\"this method only works for categorical values\")\n",
    "    return t_closeness(df, partition, sensitive_column, global_freqs) <= p"
   ]
  },
  {
   "cell_type": "code",
   "execution_count": 25,
   "metadata": {},
   "outputs": [],
   "source": [
    "# Let's apply this to our dataset\n",
    "finished_t_close_partitions = partition_dataset(df, feature_columns, sensitive_column, full_spans, lambda *args: is_k_anonymous(*args) and is_t_close(*args, global_freqs))"
   ]
  },
  {
   "cell_type": "code",
   "execution_count": 26,
   "metadata": {},
   "outputs": [
    {
     "data": {
      "text/plain": [
       "184"
      ]
     },
     "execution_count": 26,
     "metadata": {},
     "output_type": "execute_result"
    }
   ],
   "source": [
    "len(finished_t_close_partitions)"
   ]
  },
  {
   "cell_type": "code",
   "execution_count": 27,
   "metadata": {
    "scrolled": true
   },
   "outputs": [
    {
     "name": "stdout",
     "output_type": "stream",
     "text": [
      "Finished 1 partitions...\n",
      "Finished 101 partitions...\n"
     ]
    }
   ],
   "source": [
    "dft = build_anonymized_dataset(df, finished_t_close_partitions, feature_columns, sensitive_column)"
   ]
  },
  {
   "cell_type": "code",
   "execution_count": 28,
   "metadata": {},
   "outputs": [
    {
     "data": {
      "text/html": [
       "<div>\n",
       "<style scoped>\n",
       "    .dataframe tbody tr th:only-of-type {\n",
       "        vertical-align: middle;\n",
       "    }\n",
       "\n",
       "    .dataframe tbody tr th {\n",
       "        vertical-align: top;\n",
       "    }\n",
       "\n",
       "    .dataframe thead th {\n",
       "        text-align: right;\n",
       "    }\n",
       "</style>\n",
       "<table border=\"1\" class=\"dataframe\">\n",
       "  <thead>\n",
       "    <tr style=\"text-align: right;\">\n",
       "      <th></th>\n",
       "      <th>age</th>\n",
       "      <th>daily_internet_use</th>\n",
       "      <th>disease</th>\n",
       "      <th>count</th>\n",
       "    </tr>\n",
       "  </thead>\n",
       "  <tbody>\n",
       "    <tr>\n",
       "      <th>575</th>\n",
       "      <td>17.200000</td>\n",
       "      <td>3.434</td>\n",
       "      <td>diabetes</td>\n",
       "      <td>1</td>\n",
       "    </tr>\n",
       "    <tr>\n",
       "      <th>576</th>\n",
       "      <td>17.200000</td>\n",
       "      <td>3.434</td>\n",
       "      <td>endometriosis</td>\n",
       "      <td>1</td>\n",
       "    </tr>\n",
       "    <tr>\n",
       "      <th>577</th>\n",
       "      <td>17.200000</td>\n",
       "      <td>3.434</td>\n",
       "      <td>hypertension</td>\n",
       "      <td>1</td>\n",
       "    </tr>\n",
       "    <tr>\n",
       "      <th>578</th>\n",
       "      <td>17.200000</td>\n",
       "      <td>3.434</td>\n",
       "      <td>schizophrenia</td>\n",
       "      <td>1</td>\n",
       "    </tr>\n",
       "    <tr>\n",
       "      <th>579</th>\n",
       "      <td>17.200000</td>\n",
       "      <td>3.434</td>\n",
       "      <td>skin cancer</td>\n",
       "      <td>1</td>\n",
       "    </tr>\n",
       "    <tr>\n",
       "      <th>...</th>\n",
       "      <td>...</td>\n",
       "      <td>...</td>\n",
       "      <td>...</td>\n",
       "      <td>...</td>\n",
       "    </tr>\n",
       "    <tr>\n",
       "      <th>1014</th>\n",
       "      <td>76.222222</td>\n",
       "      <td>3.490</td>\n",
       "      <td>hypertension</td>\n",
       "      <td>2</td>\n",
       "    </tr>\n",
       "    <tr>\n",
       "      <th>1015</th>\n",
       "      <td>76.222222</td>\n",
       "      <td>3.490</td>\n",
       "      <td>kidney disease</td>\n",
       "      <td>2</td>\n",
       "    </tr>\n",
       "    <tr>\n",
       "      <th>1016</th>\n",
       "      <td>76.222222</td>\n",
       "      <td>3.490</td>\n",
       "      <td>multiple sclerosis</td>\n",
       "      <td>1</td>\n",
       "    </tr>\n",
       "    <tr>\n",
       "      <th>1017</th>\n",
       "      <td>76.222222</td>\n",
       "      <td>3.490</td>\n",
       "      <td>prostate cancer</td>\n",
       "      <td>1</td>\n",
       "    </tr>\n",
       "    <tr>\n",
       "      <th>1018</th>\n",
       "      <td>76.222222</td>\n",
       "      <td>3.490</td>\n",
       "      <td>skin cancer</td>\n",
       "      <td>2</td>\n",
       "    </tr>\n",
       "  </tbody>\n",
       "</table>\n",
       "<p>1241 rows × 4 columns</p>\n",
       "</div>"
      ],
      "text/plain": [
       "            age  daily_internet_use             disease  count\n",
       "575   17.200000               3.434            diabetes      1\n",
       "576   17.200000               3.434       endometriosis      1\n",
       "577   17.200000               3.434        hypertension      1\n",
       "578   17.200000               3.434       schizophrenia      1\n",
       "579   17.200000               3.434         skin cancer      1\n",
       "...         ...                 ...                 ...    ...\n",
       "1014  76.222222               3.490        hypertension      2\n",
       "1015  76.222222               3.490      kidney disease      2\n",
       "1016  76.222222               3.490  multiple sclerosis      1\n",
       "1017  76.222222               3.490     prostate cancer      1\n",
       "1018  76.222222               3.490         skin cancer      2\n",
       "\n",
       "[1241 rows x 4 columns]"
      ]
     },
     "execution_count": 28,
     "metadata": {},
     "output_type": "execute_result"
    }
   ],
   "source": [
    "# we sort the resulting dataframe using the feature columns and the sensitive attribute\n",
    "dft.sort_values(feature_columns+[sensitive_column])"
   ]
  },
  {
   "cell_type": "code",
   "execution_count": 29,
   "metadata": {},
   "outputs": [
    {
     "data": {
      "text/plain": [
       "array([ 0,  1,  2,  3,  5,  6,  7,  8, 10, 11,  4, 12,  9])"
      ]
     },
     "execution_count": 29,
     "metadata": {},
     "output_type": "execute_result"
    }
   ],
   "source": [
    "# label_encoder object knows how to understand word labels.\n",
    "label_encoder = preprocessing.LabelEncoder()\n",
    " \n",
    "# Encode labels in column 'species'.\n",
    "dft['disease']= label_encoder.fit_transform(dft['disease'])\n",
    " \n",
    "dft['disease'].unique()"
   ]
  },
  {
   "cell_type": "code",
   "execution_count": 30,
   "metadata": {},
   "outputs": [],
   "source": [
    "dft.to_csv('proposedTcloseness_result1.csv',index=False)"
   ]
  },
  {
   "cell_type": "code",
   "execution_count": 31,
   "metadata": {},
   "outputs": [
    {
     "name": "stdout",
     "output_type": "stream",
     "text": [
      "unique worked\n",
      "0.578095621810368\n"
     ]
    }
   ],
   "source": [
    "t_t = emd.EMD_ordered_distance(\"proposedTcloseness_result1.csv\", ['age', 'daily_internet_use'], ['disease'])\n",
    "print(t_t)\n",
    "\n"
   ]
  },
  {
   "cell_type": "code",
   "execution_count": 32,
   "metadata": {},
   "outputs": [
    {
     "name": "stdout",
     "output_type": "stream",
     "text": [
      "unique worked\n",
      "0.24253562503633297\n"
     ]
    }
   ],
   "source": [
    "t_h=emd.hellinger(\"proposedTcloseness_result1.csv\", ['age', 'daily_internet_use'], ['disease'])\n",
    "print(t_h)"
   ]
  },
  {
   "cell_type": "markdown",
   "metadata": {},
   "source": [
    "Divergence"
   ]
  },
  {
   "cell_type": "code",
   "execution_count": 33,
   "metadata": {},
   "outputs": [
    {
     "name": "stdout",
     "output_type": "stream",
     "text": [
      "unique worked\n",
      "[0, 0, 0, 0, 0, 0, 0, 0, 0, 0, 0, 0, 0, 0, 0, 0, 0, 0, 0, 0, 0, 0, 0, 0, 0, 0, 0, 0, 0, 0, 0, 0, 0, 0, 0, 0, 0, 0, 0, 0, 0, 0, 0, 0, 0, 0, 0, 0, 0, 0, 0, 0, 0, 0, 0, 0, 0, 0, 0, 0, 0, 0, 0, 0, 0, 0, 0, 0, 0, 0, 0, 0, 0, 0, 0, 0, 0, 0, 0, 0, 0, 0, 0, 0, 0, 0, 0, 0, 0, 0, 0, 0, 0, 0, 0, 0, 0, 0, 0, 0, 0, 0, 0, 0, 0, 0, 0, 0, 0, 0, 0, 0, 0, 0, 0, 0, 0, 0, 0, 0, 0, 0, 0, 0, 0, 0, 0, 0, 0, 0, 0, 0, 0, 0, 0, 0, 0, 0, 0, 0, 0, 0, 0, 0, 0, 0, 0, 0, 0, 0, 0, 0, 0, 0, 0, 0, 0, 0, 0, 0, 0, 0, 0, 0, 0, 0, 0, 0, 0, 0, 0, 0, 0, 0, 0, 0, 0, 0, 0, 0, 0, 0, 0, 0]\n",
      "0\n"
     ]
    }
   ],
   "source": [
    "t_d = emd.divergence(\"proposedTcloseness_result1.csv\", ['age', 'daily_internet_use'], ['disease'])\n",
    "print(t_d)"
   ]
  },
  {
   "cell_type": "code",
   "execution_count": 34,
   "metadata": {},
   "outputs": [
    {
     "name": "stdout",
     "output_type": "stream",
     "text": [
      "unique worked\n",
      "0\n"
     ]
    }
   ],
   "source": [
    "t_kl=emd.klDivergence(\"proposedTcloseness_result1.csv\", ['age', 'daily_internet_use'], ['disease'])\n",
    "print(t_kl)"
   ]
  },
  {
   "cell_type": "code",
   "execution_count": 35,
   "metadata": {},
   "outputs": [
    {
     "name": "stdout",
     "output_type": "stream",
     "text": [
      "No of K partitions 515\n",
      "No of T partitions 184\n"
     ]
    }
   ],
   "source": [
    "print(\"No of K partitions\",len(finished_partitions))\n",
    "print(\"No of T partitions\",len(finished_t_close_partitions))"
   ]
  },
  {
   "cell_type": "markdown",
   "metadata": {},
   "source": [
    "# Implementing t-closeness 2"
   ]
  },
  {
   "cell_type": "code",
   "execution_count": 36,
   "metadata": {},
   "outputs": [],
   "source": [
    "dfnew= pd.read_csv('proposedTcloseness_result1.csv')"
   ]
  },
  {
   "cell_type": "code",
   "execution_count": 37,
   "metadata": {},
   "outputs": [],
   "source": [
    "df=dfnew.copy()\n",
    "# here we generate the global frequencies for the sensitive column \n",
    "global_freqs = {}\n",
    "total_count = float(len(df))\n",
    "group_counts = df.groupby(sensitive_column)[sensitive_column].agg('count')\n",
    "for value, count in group_counts.to_dict().items():\n",
    "    p = count/total_count\n",
    "    global_freqs[value] = p"
   ]
  },
  {
   "cell_type": "code",
   "execution_count": 51,
   "metadata": {},
   "outputs": [],
   "source": [
    "def t_closeness(df, partition, column, global_freqs):\n",
    "    total_count = float(len(partition))\n",
    "    d_max = None\n",
    "    group_counts = dfnew.loc[partition].groupby(column)[column].agg('count')\n",
    "    for value, count in group_counts.to_dict().items():\n",
    "        p = count/total_count\n",
    "        d = abs(p-global_freqs[value])\n",
    "        if d_max is None or d > d_max:\n",
    "            d_max = d\n",
    "    return d_max\n",
    "\n",
    "\n",
    "def is_t_close(df, partition, sensitive_column, global_freqs, p=0.1):\n",
    "    \"\"\"\n",
    "    :param               df: The dataframe for which to check l-diversity\n",
    "    :param        partition: The partition of the dataframe on which to check l-diversity\n",
    "    :param sensitive_column: The name of the sensitive column\n",
    "    :param     global_freqs: The global frequencies of the sensitive attribute values\n",
    "    :param                p: The maximum allowed Kolmogorov-Smirnov distance\n",
    "    \"\"\"\n",
    "    if not sensitive_column in categorical:\n",
    "        raise ValueError(\"this method only works for categorical values\")\n",
    "    return t_closeness(df, partition, sensitive_column, global_freqs) <= p"
   ]
  },
  {
   "cell_type": "code",
   "execution_count": 52,
   "metadata": {},
   "outputs": [],
   "source": [
    "# Let's apply this to our dataset\n",
    "finished_improved_t_close_partitions = partition_dataset(df, feature_columns, sensitive_column, full_spans, lambda *args: is_k_anonymous(*args) and is_t_close(*args, global_freqs))"
   ]
  },
  {
   "cell_type": "code",
   "execution_count": 53,
   "metadata": {},
   "outputs": [
    {
     "data": {
      "text/plain": [
       "96"
      ]
     },
     "execution_count": 53,
     "metadata": {},
     "output_type": "execute_result"
    }
   ],
   "source": [
    "len(finished_improved_t_close_partitions)"
   ]
  },
  {
   "cell_type": "code",
   "execution_count": 54,
   "metadata": {},
   "outputs": [
    {
     "name": "stdout",
     "output_type": "stream",
     "text": [
      "Finished 1 partitions...\n"
     ]
    }
   ],
   "source": [
    "dftnew = build_anonymized_dataset(df, finished_improved_t_close_partitions, feature_columns, sensitive_column)"
   ]
  },
  {
   "cell_type": "code",
   "execution_count": 55,
   "metadata": {},
   "outputs": [
    {
     "data": {
      "text/html": [
       "<div>\n",
       "<style scoped>\n",
       "    .dataframe tbody tr th:only-of-type {\n",
       "        vertical-align: middle;\n",
       "    }\n",
       "\n",
       "    .dataframe tbody tr th {\n",
       "        vertical-align: top;\n",
       "    }\n",
       "\n",
       "    .dataframe thead th {\n",
       "        text-align: right;\n",
       "    }\n",
       "</style>\n",
       "<table border=\"1\" class=\"dataframe\">\n",
       "  <thead>\n",
       "    <tr style=\"text-align: right;\">\n",
       "      <th></th>\n",
       "      <th>age</th>\n",
       "      <th>daily_internet_use</th>\n",
       "      <th>disease</th>\n",
       "      <th>count</th>\n",
       "    </tr>\n",
       "  </thead>\n",
       "  <tbody>\n",
       "    <tr>\n",
       "      <th>530</th>\n",
       "      <td>17.750000</td>\n",
       "      <td>5.729167</td>\n",
       "      <td>1</td>\n",
       "      <td>1</td>\n",
       "    </tr>\n",
       "    <tr>\n",
       "      <th>531</th>\n",
       "      <td>17.750000</td>\n",
       "      <td>5.729167</td>\n",
       "      <td>2</td>\n",
       "      <td>1</td>\n",
       "    </tr>\n",
       "    <tr>\n",
       "      <th>532</th>\n",
       "      <td>17.750000</td>\n",
       "      <td>5.729167</td>\n",
       "      <td>3</td>\n",
       "      <td>1</td>\n",
       "    </tr>\n",
       "    <tr>\n",
       "      <th>533</th>\n",
       "      <td>17.750000</td>\n",
       "      <td>5.729167</td>\n",
       "      <td>5</td>\n",
       "      <td>1</td>\n",
       "    </tr>\n",
       "    <tr>\n",
       "      <th>534</th>\n",
       "      <td>17.750000</td>\n",
       "      <td>5.729167</td>\n",
       "      <td>6</td>\n",
       "      <td>1</td>\n",
       "    </tr>\n",
       "    <tr>\n",
       "      <th>...</th>\n",
       "      <td>...</td>\n",
       "      <td>...</td>\n",
       "      <td>...</td>\n",
       "      <td>...</td>\n",
       "    </tr>\n",
       "    <tr>\n",
       "      <th>866</th>\n",
       "      <td>76.222222</td>\n",
       "      <td>3.490000</td>\n",
       "      <td>7</td>\n",
       "      <td>1</td>\n",
       "    </tr>\n",
       "    <tr>\n",
       "      <th>867</th>\n",
       "      <td>76.222222</td>\n",
       "      <td>3.490000</td>\n",
       "      <td>8</td>\n",
       "      <td>1</td>\n",
       "    </tr>\n",
       "    <tr>\n",
       "      <th>868</th>\n",
       "      <td>76.222222</td>\n",
       "      <td>3.490000</td>\n",
       "      <td>9</td>\n",
       "      <td>1</td>\n",
       "    </tr>\n",
       "    <tr>\n",
       "      <th>869</th>\n",
       "      <td>76.222222</td>\n",
       "      <td>3.490000</td>\n",
       "      <td>10</td>\n",
       "      <td>1</td>\n",
       "    </tr>\n",
       "    <tr>\n",
       "      <th>870</th>\n",
       "      <td>76.222222</td>\n",
       "      <td>3.490000</td>\n",
       "      <td>12</td>\n",
       "      <td>1</td>\n",
       "    </tr>\n",
       "  </tbody>\n",
       "</table>\n",
       "<p>883 rows × 4 columns</p>\n",
       "</div>"
      ],
      "text/plain": [
       "           age  daily_internet_use  disease  count\n",
       "530  17.750000            5.729167        1      1\n",
       "531  17.750000            5.729167        2      1\n",
       "532  17.750000            5.729167        3      1\n",
       "533  17.750000            5.729167        5      1\n",
       "534  17.750000            5.729167        6      1\n",
       "..         ...                 ...      ...    ...\n",
       "866  76.222222            3.490000        7      1\n",
       "867  76.222222            3.490000        8      1\n",
       "868  76.222222            3.490000        9      1\n",
       "869  76.222222            3.490000       10      1\n",
       "870  76.222222            3.490000       12      1\n",
       "\n",
       "[883 rows x 4 columns]"
      ]
     },
     "execution_count": 55,
     "metadata": {},
     "output_type": "execute_result"
    }
   ],
   "source": [
    "# Let's see how t-closeness fares\n",
    "dftnew.sort_values (feature_columns + [sensitive_column])"
   ]
  },
  {
   "cell_type": "code",
   "execution_count": 56,
   "metadata": {},
   "outputs": [
    {
     "data": {
      "text/plain": [
       "array([ 0,  1,  2,  3,  5,  6,  7,  8, 10, 11,  4, 12,  9], dtype=int64)"
      ]
     },
     "execution_count": 56,
     "metadata": {},
     "output_type": "execute_result"
    }
   ],
   "source": [
    "# label_encoder object knows how to understand word labels.\n",
    "label_encoder = preprocessing.LabelEncoder()\n",
    " \n",
    "# Encode labels in column 'species'.\n",
    "dft['disease']= label_encoder.fit_transform(dft['disease'])\n",
    " \n",
    "dft['disease'].unique()"
   ]
  },
  {
   "cell_type": "code",
   "execution_count": 57,
   "metadata": {},
   "outputs": [],
   "source": [
    "dft.to_csv('improvedTcloseness_result1.csv',index=False)"
   ]
  },
  {
   "cell_type": "code",
   "execution_count": 58,
   "metadata": {
    "scrolled": true
   },
   "outputs": [
    {
     "name": "stdout",
     "output_type": "stream",
     "text": [
      "unique worked\n",
      "0.578095621810368\n",
      "unique worked\n",
      "0.24253562503633297\n",
      "unique worked\n",
      "[0, 0, 0, 0, 0, 0, 0, 0, 0, 0, 0, 0, 0, 0, 0, 0, 0, 0, 0, 0, 0, 0, 0, 0, 0, 0, 0, 0, 0, 0, 0, 0, 0, 0, 0, 0, 0, 0, 0, 0, 0, 0, 0, 0, 0, 0, 0, 0, 0, 0, 0, 0, 0, 0, 0, 0, 0, 0, 0, 0, 0, 0, 0, 0, 0, 0, 0, 0, 0, 0, 0, 0, 0, 0, 0, 0, 0, 0, 0, 0, 0, 0, 0, 0, 0, 0, 0, 0, 0, 0, 0, 0, 0, 0, 0, 0, 0, 0, 0, 0, 0, 0, 0, 0, 0, 0, 0, 0, 0, 0, 0, 0, 0, 0, 0, 0, 0, 0, 0, 0, 0, 0, 0, 0, 0, 0, 0, 0, 0, 0, 0, 0, 0, 0, 0, 0, 0, 0, 0, 0, 0, 0, 0, 0, 0, 0, 0, 0, 0, 0, 0, 0, 0, 0, 0, 0, 0, 0, 0, 0, 0, 0, 0, 0, 0, 0, 0, 0, 0, 0, 0, 0, 0, 0, 0, 0, 0, 0, 0, 0, 0, 0, 0, 0]\n",
      "0\n",
      "unique worked\n",
      "0\n"
     ]
    }
   ],
   "source": [
    "IT_t = emd.EMD_ordered_distance(\"improvedTcloseness_result1.csv\", ['age', 'daily_internet_use'], ['disease'])\n",
    "print(IT_t)\n",
    "IT_h=emd.hellinger(\"improvedTcloseness_result1.csv\", ['age', 'daily_internet_use'], ['disease'])\n",
    "print(IT_h)\n",
    "IT_d = emd.divergence(\"improvedTcloseness_result1.csv\", ['age', 'daily_internet_use'], ['disease'])\n",
    "print(IT_d)\n",
    "IT_kl=emd.klDivergence(\"improvedTcloseness_result1.csv\", ['age', 'daily_internet_use'], ['disease'])\n",
    "print(IT_kl)"
   ]
  },
  {
   "cell_type": "code",
   "execution_count": 59,
   "metadata": {},
   "outputs": [
    {
     "data": {
      "image/png": "[encoded data removed]",
      "text/plain": [
       "<Figure size 720x432 with 1 Axes>"
      ]
     },
     "metadata": {
      "needs_background": "light"
     },
     "output_type": "display_data"
    }
   ],
   "source": [
    "labels = ['K-Anonymity',  'T-Closeness','Improved T-closeness']\n",
    "x = np.arange(len(labels))  # the label locations\n",
    "width = 0.20  # the width of the bars\n",
    "\n",
    "fig, ax = plt.subplots(figsize =(10, 6))\n",
    "\n",
    "# set height of bar\n",
    "lengths=[len(finished_partitions),len(finished_t_close_partitions),len(finished_improved_t_close_partitions)]\n",
    "\n",
    " # Set position of bar on X axis\n",
    "br1 = np.arange(len(T))\n",
    "br2 = [x + width for x in br1]\n",
    "br3 = [x + width for x in br2]\n",
    "# Make the plot\n",
    "\n",
    "plt.bar(br1,lengths,color ='g', width = width,\n",
    "        edgecolor ='grey', label ='T')\n",
    "\n",
    "# Add some text for labels, title and custom x-axis tick labels, etc.\n",
    "plt.xlabel('Algorithms', fontweight ='bold', fontsize = 15)\n",
    "ax.set_ylabel('Length of partitions',fontsize = 15,fontweight ='bold')\n",
    "ax.set_title('Comparison of lengths of partitions',fontweight ='bold', fontsize = 15)\n",
    "\n",
    "ax.set_xticks(x)\n",
    "ax.set_xticklabels(labels)\n",
    "\n",
    "fig.tight_layout()\n",
    "\n",
    "plt.show()"
   ]
  },
  {
   "cell_type": "code",
   "execution_count": 48,
   "metadata": {},
   "outputs": [
    {
     "data": {
      "image/png": "[encoded data removed]",
      "text/plain": [
       "<Figure size 720x432 with 1 Axes>"
      ]
     },
     "metadata": {
      "needs_background": "light"
     },
     "output_type": "display_data"
    }
   ],
   "source": [
    "labels = ['K-Anonymity',  'T-Closeness','Improved T-Closeness']\n",
    "\n",
    "\n",
    "x = np.arange(len(labels))  # the label locations\n",
    "width = 0.20  # the width of the bars\n",
    "\n",
    "fig, ax = plt.subplots(figsize =(10, 6))\n",
    "\n",
    "# set height of bar\n",
    "T= [k_t,t_t,IT_t]\n",
    "D=[k_d,t_d,IT_d]\n",
    "H=[k_h,t_h,IT_h]\n",
    "Kl=[k_kl,t_kl,IT_kl]\n",
    "\n",
    " \n",
    "# Set position of bar on X axis\n",
    "br1 = np.arange(len(T))\n",
    "br2 = [x + width for x in br1]\n",
    "br3 = [x + width for x in br2]\n",
    "# Make the plot\n",
    "\n",
    "plt.bar(br1,T ,color ='g', width = width,\n",
    "        edgecolor ='grey', label ='T')\n",
    "plt.bar(br2,D,color ='r', width = width,\n",
    "        edgecolor ='grey', label ='D')\n",
    "plt.bar(br3,H,color ='y', width = width,\n",
    "        edgecolor ='grey', label ='H')\n",
    "plt.bar(br3,Kl,color='b',width = width,\n",
    "        edgecolor ='grey', label ='Kl')\n",
    "\n",
    "\n",
    "# Add some text for labels, title and custom x-axis tick labels, etc.\n",
    "plt.xlabel('Algorithms', fontweight ='bold', fontsize = 15)\n",
    "ax.set_ylabel('Metrics',fontweight ='bold', fontsize = 15)\n",
    "ax.set_title('Comparison metrics',fontweight ='bold', fontsize = 15)\n",
    "\n",
    "ax.set_xticks(x)\n",
    "ax.set_xticklabels(labels)\n",
    "ax.legend()\n",
    "\n",
    "fig.tight_layout()\n",
    "\n",
    "plt.show()"
   ]
  },
  {
   "cell_type": "code",
   "execution_count": null,
   "metadata": {},
   "outputs": [],
   "source": []
  },
  {
   "cell_type": "code",
   "execution_count": null,
   "metadata": {},
   "outputs": [],
   "source": []
  }
 ],
 "metadata": {
  "kernelspec": {
   "display_name": "Python 3",
   "language": "python",
   "name": "python3"
  },
  "language_info": {
   "codemirror_mode": {
    "name": "ipython",
    "version": 3
   },
   "file_extension": ".py",
   "mimetype": "text/x-python",
   "name": "python",
   "nbconvert_exporter": "python",
   "pygments_lexer": "ipython3",
   "version": "3.8.3"
  }
 },
 "nbformat": 4,
 "nbformat_minor": 4
}
